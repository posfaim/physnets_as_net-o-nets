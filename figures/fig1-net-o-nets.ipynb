{
 "cells": [
  {
   "cell_type": "markdown",
   "id": "342f9b13",
   "metadata": {},
   "source": [
    "# Figure 1: Network-of-networks representation"
   ]
  },
  {
   "cell_type": "code",
   "execution_count": 1,
   "id": "77f00d8d",
   "metadata": {},
   "outputs": [],
   "source": [
    "import matplotlib.pyplot as plt"
   ]
  },
  {
   "cell_type": "markdown",
   "id": "dc4c87ff",
   "metadata": {},
   "source": [
    "Color scheme and fonts"
   ]
  },
  {
   "cell_type": "code",
   "execution_count": 2,
   "id": "1df9ae0f",
   "metadata": {},
   "outputs": [],
   "source": [
    "colors = [\n",
    "    \"#3658BF\",\n",
    "    \"#03A678\",\n",
    "    \"#F2B705\",\n",
    "    \"#F28705\",\n",
    "    \"#F24141\"\n",
    "]\n",
    "\n",
    "plt.rcParams.update({'font.size': 20})\n",
    "\n",
    "plt.rcParams['mathtext.fontset'] = 'custom'\n",
    "plt.rcParams['mathtext.cal'] = 'CMSY10'"
   ]
  },
  {
   "cell_type": "code",
   "execution_count": 3,
   "id": "ae80668f",
   "metadata": {},
   "outputs": [
    {
     "data": {
      "image/png": "[encoded data removed]",
      "text/plain": [
       "<Figure size 486x243 with 2 Axes>"
      ]
     },
     "metadata": {
      "needs_background": "light"
     },
     "output_type": "display_data"
    }
   ],
   "source": [
    "L=8\n",
    "\n",
    "line_nodes=[0,1,2,3,4]\n",
    "lines=[\n",
    "    [[1,4],[2,4],[3,4],[3,5],[4,5],[5,5],[5,6],[5,7],[6,7],[-1,-1]],\n",
    "    [[1,7],[2,7],[3,7],[3,6],[3,5]],\n",
    "    [[5,2],[6,2],[6,3],[6,4],[5,4],[5,5]],\n",
    "    [[8,3],[7,3],[6,3]],\n",
    "    [[1,3],[1,4]]\n",
    "    ]\n",
    "lines = [[[x-1,y-1] for x,y in line] for line in lines]\n",
    "\n",
    "fig, ax = plt.subplots(1,2,figsize=(2*(3+3/8),(3+3/8)))\n",
    "\n",
    "plt.sca(ax[0])\n",
    "\n",
    "for i in range(L):\n",
    "    plt.plot([-.5,L-.5],[i,i],'k-',linewidth=.25)\n",
    "    plt.plot([i,i],[-.5,L-.5],'k-',linewidth=.25)\n",
    "\n",
    "for line,c in zip(lines[1:],colors[1:]):\n",
    "    plt.plot(*zip(*line[-2:]), '--',color=c, markersize=8,linewidth=3,dashes=(1, 1))\n",
    "    \n",
    "for line,c in zip(lines,colors):\n",
    "    plt.plot(*zip(*line[:-1]), 'o-',color=c, markersize=8,linewidth=4)\n",
    "\n",
    "\n",
    "x=[t-1 for t in [0.5,3.5,3.5,4.5,4.5,6.5,6.5,5.5,5.5,6.5,6.5,8.5,8.5,6.5,6.5,4.5,4.5,4.5,5.5,5.5,4.5,4.5,\n",
    "   3.5,3.5,1.5,1.5,0.5,0.5,2.5,2.5,0.5,0.5]]\n",
    "y=[t-1 for t in [7.5,7.5,5.5,5.5,7.5,7.5,6.5,6.5,4.5,4.5,3.5,3.5,2.5,2.5,1.5,1.5,1.5,2.5,2.5,3.5,3.5,4.5,\n",
    "   4.5,3.5,3.5,2.5,2.5,4.5,4.5,6.5,6.5,7.5]]\n",
    "\n",
    "plt.plot(x,y,'k--',linewidth=1.2,dashes=(5,4))\n",
    "plt.axis('off')\n",
    "\n",
    "\n",
    "plt.sca(ax[1])\n",
    "plt.axis('off')\n",
    "\n",
    "coords = [\n",
    "    [1.1,1.],\n",
    "    [1.5,0.8],\n",
    "    [1.2,1.4],\n",
    "    [0.9,1.6],\n",
    "    [0.7,0.9]\n",
    "]\n",
    "\n",
    "for i,j in [(0,1),(0,2),(0,4),(2,3)]:\n",
    "    plt.plot([coords[i][0],coords[j][0]],[coords[i][1],coords[j][1]],'k',linewidth=1,alpha=.25)\n",
    "\n",
    "for coord,c in zip(coords,colors):\n",
    "    plt.plot([coord[0]],[coord[1]],'o',color=c,markersize=20.)\n",
    "plt.xlim(left=0.4,right=1.8)\n",
    "plt.ylim(top =1.8,bottom=.5)\n",
    "\n",
    "plt.sca(ax[0])\n",
    "plt.annotate(r\"$\\mathcal{S}$\", (-.5,-0.),\n",
    "                  xytext=(-2.5, .75),\n",
    "                  arrowprops=dict(arrowstyle=\"->\",connectionstyle=\"arc3,rad=.3\",lw=.5)\n",
    "                 )\n",
    "plt.annotate(r\"$\\mathcal{V}_0$\", (5.2,5.1), color=colors[0],\n",
    "                  bbox=dict(boxstyle=\"round,pad=0.\", fc=\"white\", ec='k', lw=0.),\n",
    "                  )\n",
    "\n",
    "plt.annotate(r\"$\\mathcal{V}_1$\", (-.8,5.1), color=colors[1],\n",
    "                  bbox=dict(boxstyle=\"round,pad=0.\", fc=\"white\", ec='k', lw=0.),\n",
    "                  )\n",
    "\n",
    "plt.annotate(r\"$\\mathcal{V}_2$\", (5.2,.1), color=colors[2],\n",
    "                  bbox=dict(boxstyle=\"round,pad=0.\", fc=\"white\", ec='k', lw=0.),\n",
    "                  )\n",
    "\n",
    "plt.annotate(r\"$\\mathcal{V}_3$\", (7.2,1.1), color=colors[3],\n",
    "                  bbox=dict(boxstyle=\"round,pad=0.\", fc=\"white\", ec='k', lw=0.),\n",
    "                  )\n",
    "\n",
    "plt.annotate(r\"$\\mathcal{V}_4$\", (.2,1.1), color=colors[4],\n",
    "                  bbox=dict(boxstyle=\"round,pad=0.\", fc=\"white\", ec='k', lw=0.),\n",
    "                  )\n",
    "\n",
    "\n",
    "plt.annotate(r\"$\\mathcal{P}$\", (6.5,2.5),\n",
    "                  xytext=(7.5, 3.5), weight='light',\n",
    "                  arrowprops=dict(arrowstyle=\"->\",connectionstyle=\"arc3,rad=.3\", lw=.5)\n",
    "                 )\n",
    "\n",
    "plt.sca(ax[1])\n",
    "\n",
    "\n",
    "plt.annotate(r\"$\\mathcal{G}$\", (1.4,1.05))\n",
    "\n",
    "for i,coord in enumerate(coords):\n",
    "    plt.annotate(str(i),coord,color='w',ha='center',va='center',fontsize=14)\n",
    "\n",
    "plt.text(0.0, 1.,'a', ha='left', va='top', transform = ax[0].transAxes,weight='light')\n",
    "plt.text(0.0, 1.,'b', ha='left', va='top', transform = ax[1].transAxes,weight='light')\n",
    "\n",
    "ax[0].set_position((0.0,0.,.5,1.))\n",
    "ax[1].set_position((0.5,0.,.5,1.))\n",
    "\n",
    "plt.sca(ax[0])\n",
    "plt.xlim(left=-2.5,right=8)\n",
    "plt.ylim(top =8.5,bottom=-2.)\n",
    "\n",
    "plt.savefig('out.pdf')"
   ]
  },
  {
   "cell_type": "code",
   "execution_count": null,
   "id": "13c14e63",
   "metadata": {},
   "outputs": [],
   "source": []
  },
  {
   "cell_type": "code",
   "execution_count": null,
   "id": "c6be23c5",
   "metadata": {},
   "outputs": [],
   "source": []
  }
 ],
 "metadata": {
  "kernelspec": {
   "display_name": "Python 3",
   "language": "python",
   "name": "python3"
  },
  "language_info": {
   "codemirror_mode": {
    "name": "ipython",
    "version": 3
   },
   "file_extension": ".py",
   "mimetype": "text/x-python",
   "name": "python",
   "nbconvert_exporter": "python",
   "pygments_lexer": "ipython3",
   "version": "3.6.11"
  }
 },
 "nbformat": 4,
 "nbformat_minor": 5
}
