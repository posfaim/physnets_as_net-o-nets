{
 "cells": [
  {
   "cell_type": "markdown",
   "id": "00cf364c",
   "metadata": {},
   "source": [
    "# Figure 2: Evolution of LERW physical networks"
   ]
  },
  {
   "cell_type": "code",
   "execution_count": 1,
   "id": "4ada6de9",
   "metadata": {},
   "outputs": [],
   "source": [
    "import numpy as np\n",
    "import itertools\n",
    "from scipy.stats import binned_statistic\n",
    "\n",
    "from statsmodels.distributions.empirical_distribution import ECDF\n",
    "\n",
    "import matplotlib.pyplot as plt\n",
    "import matplotlib\n",
    "\n",
    "from scipy.optimize import least_squares\n"
   ]
  },
  {
   "cell_type": "markdown",
   "id": "20fc24ec",
   "metadata": {},
   "source": [
    "Color scheme and fonts"
   ]
  },
  {
   "cell_type": "code",
   "execution_count": 2,
   "id": "e96a467a",
   "metadata": {},
   "outputs": [],
   "source": [
    "colors = [\n",
    "    \"#3658BF\",\n",
    "    \"#03A678\",\n",
    "    \"#F2B705\",\n",
    "    \"#F24141\",\n",
    "    \"#F28705\"\n",
    "]\n",
    "\n",
    "plt.rcParams['mathtext.fontset'] = 'custom'\n",
    "plt.rcParams['mathtext.it'] = 'CMMI10'\n",
    "plt.rcParams['mathtext.rm'] = 'CMR10'\n",
    "plt.rcParams['mathtext.cal'] = 'CMSY10'\n",
    "\n",
    "plt.rcParams.update({'font.size': 20})\n"
   ]
  },
  {
   "cell_type": "markdown",
   "id": "50bc0456",
   "metadata": {},
   "source": [
    "Load networks"
   ]
  },
  {
   "cell_type": "code",
   "execution_count": 3,
   "id": "9b60589e",
   "metadata": {},
   "outputs": [],
   "source": [
    "def PartLoadRWNet(filename, prefix='../data/simulations/'):\n",
    "    with open(prefix+filename+\".csv\",\"rt\") as f:\n",
    "        next(f)\n",
    "        walk_length = []\n",
    "        new_sites_visited = []\n",
    "        el = []\n",
    "        for line in f:\n",
    "            row = [int(x) for x in line.split(',')]\n",
    "            if row[1]>-1:\n",
    "                el.append((row[0],row[1]))\n",
    "            walk_length.append(row[2])\n",
    "            new_sites_visited.append(row[3])\n",
    "            \n",
    "    return el, walk_length, new_sites_visited"
   ]
  },
  {
   "cell_type": "markdown",
   "id": "7c31fa85",
   "metadata": {},
   "source": [
    "Load networks."
   ]
  },
  {
   "cell_type": "code",
   "execution_count": 4,
   "id": "b2fa1ff0",
   "metadata": {},
   "outputs": [],
   "source": [
    "Dfs = {2:5/4, 3:1.6183, 4:2, 5:2}\n",
    "walk_type='LERW'\n",
    "\n",
    "N=1000000"
   ]
  },
  {
   "cell_type": "code",
   "execution_count": 5,
   "id": "94d02850",
   "metadata": {},
   "outputs": [
    {
     "name": "stdout",
     "output_type": "stream",
     "text": [
      "2 1000 1000000\n",
      "3 100 1000000\n",
      "4 32 1048576\n",
      "5 16 1048576\n"
     ]
    }
   ],
   "source": [
    "walk_length_D = {}\n",
    "el_D = {}\n",
    "new_sites_visited_D = {}\n",
    "for D,Df in Dfs.items():\n",
    "    L  = round(N**(1/D))\n",
    "    l0 = int(L**Df)\n",
    "    print(D, L, L**D)\n",
    "    el_D[(D,walk_type)], walk_length_D[(D,walk_type)],new_sites_visited_D[(D,walk_type)] = PartLoadRWNet(f\"RWnet.{walk_type}.N{N}D{D}l0{l0}\")"
   ]
  },
  {
   "cell_type": "markdown",
   "id": "abfa15ca",
   "metadata": {},
   "source": [
    "### Volume-degree"
   ]
  },
  {
   "cell_type": "markdown",
   "id": "f826f285",
   "metadata": {},
   "source": [
    "Get degree sequence."
   ]
  },
  {
   "cell_type": "code",
   "execution_count": 6,
   "id": "cd65ed68",
   "metadata": {},
   "outputs": [],
   "source": [
    "ks_D = {}\n",
    "for key, el in el_D.items():\n",
    "    el= np.array(el)\n",
    "    _,ks_D[key] = np.unique(el,return_counts=True)"
   ]
  },
  {
   "cell_type": "markdown",
   "id": "3ada58ac",
   "metadata": {},
   "source": [
    "Calculate binned averages for plot."
   ]
  },
  {
   "cell_type": "code",
   "execution_count": 7,
   "id": "97183807",
   "metadata": {},
   "outputs": [],
   "source": [
    "max_v = 0\n",
    "for vs in new_sites_visited_D.values():\n",
    "    loc_max = max(vs)\n",
    "    if max_v<loc_max:\n",
    "        max_v=loc_max\n",
    "        \n",
    "binned_ks_D = {}\n",
    "binned_vs_D = {}\n",
    "bs = np.logspace(0,np.log10(max_v+1),10)\n",
    "for key, el in el_D.items():\n",
    "    binned_vs_D[key],_,_ = binned_statistic(new_sites_visited_D[key],new_sites_visited_D[key],statistic='mean',bins=bs)\n",
    "    binned_ks_D[key],_,_ = binned_statistic(new_sites_visited_D[key],ks_D[key],statistic='mean',bins=bs)\n"
   ]
  },
  {
   "cell_type": "markdown",
   "id": "d1b78261",
   "metadata": {},
   "source": [
    "### Degree distribution"
   ]
  },
  {
   "cell_type": "code",
   "execution_count": 8,
   "id": "8292a00a",
   "metadata": {},
   "outputs": [],
   "source": [
    "uks_D = {}\n",
    "ccdf_D = {}\n",
    "intercept_D = {}\n",
    "\n",
    "for key in ks_D.keys():\n",
    "    ecdf = ECDF(ks_D[key],side='left')\n",
    "    uks_D[key] = np.unique(ks_D[key])\n",
    "    ccdf_D[key]  = 1-ecdf(uks_D[key])\n",
    "    \n",
    "    # for visualization, we fit the intercept using the predicted exponent\n",
    "    D = key[0]\n",
    "    exp = D/Dfs[D] if D<4 else 2.\n",
    "    res = least_squares(lambda a: -exp*np.log(uks_D[key])+a-np.log(ccdf_D[key]), x0=2.)\n",
    "    intercept_D[key]=res.x[0]"
   ]
  },
  {
   "cell_type": "markdown",
   "id": "7fb04dbe",
   "metadata": {},
   "source": [
    "### Number of nodes in saturated state"
   ]
  },
  {
   "cell_type": "code",
   "execution_count": 9,
   "id": "293ab34e",
   "metadata": {},
   "outputs": [],
   "source": [
    "Ds = [2,3,4,5]\n",
    "\n",
    "walk_type=\"LERW\"\n",
    "LDs = np.logspace(2,20,10,base=2,dtype=int)\n",
    "indep = 10\n",
    "\n",
    "Ns_D = {}\n",
    "Ls_D = {}\n",
    "LDs_D = {}\n",
    "Ns_std_D = {}\n",
    "\n",
    "LDss = [LDs,LDs,LDs[1:],LDs[2:]]\n",
    "for D, lds in zip(Ds,LDss):\n",
    "    key = (D,walk_type)\n",
    "    Ls_D[key] = []\n",
    "    LDs_D[key] = []\n",
    "    Ns_D[key] = []\n",
    "    Ns_std_D[key] = []\n",
    "    for LD in lds:\n",
    "        L = round(LD**(1/D))\n",
    "        Ls_D[key].append(L)\n",
    "        LDs_D[key].append(L**D)\n",
    "        \n",
    "        l0=1\n",
    "        \n",
    "        ns = []\n",
    "        for i in range(indep):\n",
    "            _, walk_length, _ = PartLoadRWNet(f\"RWnet.{walk_type}.L{L}D{D}init{l0}copy{i:02d}\")\n",
    "            ns.append(len(walk_length))\n",
    "        \n",
    "        Ns_D[key].append(np.mean(ns))\n",
    "        Ns_std_D[key].append(np.std(ns))\n"
   ]
  },
  {
   "cell_type": "markdown",
   "id": "b140c2bb",
   "metadata": {},
   "source": [
    "### Final figure"
   ]
  },
  {
   "cell_type": "code",
   "execution_count": 10,
   "id": "50872d12",
   "metadata": {},
   "outputs": [
    {
     "name": "stderr",
     "output_type": "stream",
     "text": [
      "findfont: Font family ['cursive'] not found. Falling back to DejaVu Sans.\n"
     ]
    },
    {
     "data": {
      "image/png": "[encoded data removed]",
      "text/plain": [
       "<Figure size 972x243 with 8 Axes>"
      ]
     },
     "metadata": {
      "needs_background": "light"
     },
     "output_type": "display_data"
    }
   ],
   "source": [
    "fig, ax = plt.subplots(1,4,figsize=(4*(3+3/8),1*(3+3/8)))\n",
    "ax=ax.reshape(2,2)\n",
    "\n",
    "#V-t\n",
    "plt.sca(ax[0,0])\n",
    "ts = np.logspace(0,5.8)\n",
    "\n",
    "mult=0.01\n",
    "i = 0\n",
    "for D,walk_type in new_sites_visited_D.keys():\n",
    "    if walk_type!='RPC':\n",
    "        plt.plot(mult*np.cumsum(new_sites_visited_D[(D,walk_type)]),linewidth=2,color=colors[i],label=r\"$d=%d$\"%D)\n",
    "        L=round(N**(1./D))\n",
    "        exp = 1-Dfs[D]/D if D<4 else 1./2.\n",
    "        plt.plot(ts, mult*L**D *(ts/(L**D)/exp)**exp,'k--')\n",
    "        if D<4:\n",
    "            mult*=10\n",
    "        i+=1\n",
    "        \n",
    "plt.xscale('log')\n",
    "plt.yscale('log')\n",
    "plt.legend(handlelength=1.,fontsize=10,loc='upper left',frameon=False)\n",
    "plt.xlabel(r'$t$')\n",
    "plt.ylabel(r'$V$')\n",
    "\n",
    "\n",
    "##Nsat-L\n",
    "plt.sca(ax[0,1])\n",
    "\n",
    "mult=0.01\n",
    "i=0\n",
    "for D,walk_type in Ns_D.keys():\n",
    "    plt.errorbar(LDs_D[(D,walk_type)],\n",
    "             Ns_D[(D,walk_type)],yerr=Ns_std_D[(D,walk_type)],fmt='o',c=colors[i],label=r\"$d=%d$\"%D,linewidth=2)\n",
    "    mult*=10\n",
    "    i+=1\n",
    "\n",
    "xs=np.logspace(1,6)\n",
    "plt.plot(xs,0.45*xs,'--k')\n",
    "\n",
    "plt.xscale('log')\n",
    "plt.yscale('log')\n",
    "plt.legend(handlelength=1.,fontsize=10,loc='upper left',frameon=False)\n",
    "plt.xlabel('$L^d$')\n",
    "plt.ylabel(r'$N_\\mathrm{sat}$')\n",
    "\n",
    "##k-v\n",
    "plt.sca(ax[1,0])\n",
    "\n",
    "ms=.5\n",
    "a=.1\n",
    "\n",
    "mult=0.01\n",
    "i=0\n",
    "for D,walk_type in new_sites_visited_D.keys():\n",
    "    plt.plot(binned_vs_D[(D,walk_type)],\n",
    "             binned_ks_D[(D,walk_type)],'-o',c=colors[i],label=r\"$d=%d$\"%D,markersize=6.,linewidth=2.)\n",
    "    mult*=10  \n",
    "    i+=1\n",
    "\n",
    "xs=np.logspace(1,3.5)\n",
    "plt.plot(xs,1.4*xs,'--k')\n",
    "        \n",
    "plt.xscale('log')\n",
    "plt.yscale('log')\n",
    "plt.legend(handlelength=1.,fontsize=10,loc='upper left',frameon=False)\n",
    "plt.xlabel(r'$v$')\n",
    "plt.ylabel(r'$k$')\n",
    "\n",
    "##CCDF\n",
    "plt.sca(ax[1,1])\n",
    "\n",
    "mult=0.01\n",
    "i=0\n",
    "for D,walk_type in ccdf_D.keys():\n",
    "    plt.plot(uks_D[(D,walk_type)],\n",
    "             mult*ccdf_D[(D,walk_type)],'-',label=r\"$d=%d$\"%D,c=colors[i],linewidth=2)\n",
    "    \n",
    "    L=round(N**(1./D))\n",
    "    exp = D/Dfs[D] if D<4 else 2.\n",
    "    plt.plot(uks_D[(D,walk_type)],\n",
    "             mult*np.exp(intercept_D[(D,walk_type)])*uks_D[(D,walk_type)]**(-exp),'k--')\n",
    "    if D<4:\n",
    "        mult*=10\n",
    "    i+=1\n",
    "\n",
    "        \n",
    "plt.xscale('log')\n",
    "plt.yscale('log')\n",
    "plt.legend(handlelength=1.,fontsize=10,loc='upper right',frameon=False)\n",
    "plt.xlabel(r'$k$')\n",
    "plt.ylabel(r'$\\mathrm{CCDF}$')\n",
    "\n",
    "#===========================\n",
    "\n",
    "ax2 = ax[0,0].twinx()\n",
    "ax2.plot(np.NaN,np.NaN,'k--',label=r'$\\sim t^{1-d_\\mathrm{f}/d}$')\n",
    "ax2.get_yaxis().set_visible(False)\n",
    "ax2.legend(handlelength=1.,fontsize=12,frameon=False,bbox_to_anchor=(1.,.28), handletextpad=.3)\n",
    "\n",
    "ax2 = ax[0,1].twinx()\n",
    "ax2.plot(np.NaN,np.NaN,'k--',label=r'$\\sim L^d$')\n",
    "ax2.get_yaxis().set_visible(False)\n",
    "ax2.legend(handlelength=1.,fontsize=12,frameon=False,bbox_to_anchor=(.9,.4), handletextpad=.3)\n",
    "\n",
    "ax2 = ax[1,0].twinx()\n",
    "ax2.plot(np.NaN,np.NaN,'k--',label=r'$\\sim v$')\n",
    "ax2.get_yaxis().set_visible(False)\n",
    "ax2.legend(handlelength=1.,fontsize=12,frameon=False,bbox_to_anchor=(.9,.4), handletextpad=.3)\n",
    "\n",
    "\n",
    "ax2 = ax[1,1].twinx()\n",
    "ax2.plot(np.NaN,np.NaN,'k--',label=r'$\\sim k^{-d/d_\\mathrm{f}}$')\n",
    "ax2.get_yaxis().set_visible(False)\n",
    "ax2.legend(handlelength=1.,fontsize=12,frameon=False,bbox_to_anchor=(.55,.3), handletextpad=.3)\n",
    "\n",
    "\n",
    "lm =.05\n",
    "bm =.2\n",
    "rm =.025+lm\n",
    "tm =.1+bm\n",
    "\n",
    "\n",
    "plt.text(-0.28, 1.08,'a', ha='left', va='top', transform = ax[0,0].transAxes,weight='light')\n",
    "plt.text(-0.28, 1.08,'b', ha='left', va='top', transform = ax[0,1].transAxes,weight='light')\n",
    "plt.text(-0.28, 1.08,'c', ha='left', va='top', transform = ax[1,0].transAxes,weight='light')\n",
    "plt.text(-0.28, 1.08,'d', ha='left', va='top', transform = ax[1,1].transAxes,weight='light')\n",
    "\n",
    "for a in ax.reshape(-1):\n",
    "    plt.sca(a)\n",
    "    plt.xticks(fontsize=10)\n",
    "    plt.yticks(fontsize=10)\n",
    "\n",
    "\n",
    "ax[0,0].set_position((0.0+lm, 0.+bm, .25-rm, 1.-tm))\n",
    "ax[0,1].set_position((0.25+lm,0.+bm, .25-rm, 1.-tm))\n",
    "ax[1,0].set_position((0.5+lm, 0.+bm, .25-rm, 1.-tm))\n",
    "ax[1,1].set_position((0.75+lm,0.+bm ,.25-rm, 1.-tm))\n",
    "\n",
    "plt.savefig('out.pdf')"
   ]
  },
  {
   "cell_type": "code",
   "execution_count": null,
   "id": "f494095f",
   "metadata": {},
   "outputs": [],
   "source": []
  }
 ],
 "metadata": {
  "kernelspec": {
   "display_name": "Python 3",
   "language": "python",
   "name": "python3"
  },
  "language_info": {
   "codemirror_mode": {
    "name": "ipython",
    "version": 3
   },
   "file_extension": ".py",
   "mimetype": "text/x-python",
   "name": "python",
   "nbconvert_exporter": "python",
   "pygments_lexer": "ipython3",
   "version": "3.6.11"
  }
 },
 "nbformat": 4,
 "nbformat_minor": 5
}
